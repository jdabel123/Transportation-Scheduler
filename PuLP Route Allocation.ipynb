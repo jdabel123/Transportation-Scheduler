{
 "cells": [
  {
   "cell_type": "code",
   "execution_count": null,
   "metadata": {},
   "outputs": [],
   "source": [
    "import pandas as pd\n",
    "import numpy as np \n",
    "from pulp import *\n",
    "import random\n",
    "import itertools"
   ]
  },
  {
   "cell_type": "code",
   "execution_count": null,
   "metadata": {},
   "outputs": [],
   "source": [
    "# list of drivers\n",
    "drivers = ['W' + str(i) for i in range(1,11)]\n",
    "# list of routes\n",
    "routes = ['R' + str(i) for i in range(1,11)]\n",
    "# list of route types\n",
    "types = ['a','b','c','d']\n",
    "\n",
    "# list of driver preferences\n",
    "driver_preference = [random.choice(types) for i in range(1,11)]\n",
    "# list of route types\n",
    "route_type = [random.choice(types) for i in range(1,11)]\n",
    "# list of potential start times\n",
    "times = list(pd.date_range('07:00','09:00',freq='5min'))\n",
    "# route start times\n",
    "route_start_times = [random.choice(times) for i in range(1,11)]\n",
    "# driver start times\n",
    "driver_start_times = [random.choice(times) for i in range(1,11)]\n"
   ]
  },
  {
   "cell_type": "code",
   "execution_count": null,
   "metadata": {},
   "outputs": [],
   "source": [
    "# create list of every combination of route and driver\n",
    "combinations = list(itertools.product(routes,drivers))\n",
    "\n",
    "# set up problem\n",
    "allocation_model = LpProblem('Allocation', LpMaximize)\n",
    "# create binary decision variables\n",
    "var = LpVariable.dicts('VAR', combinations, lowBound=0, upBound=1, cat = LpInteger)\n"
   ]
  },
  {
   "cell_type": "code",
   "execution_count": null,
   "metadata": {},
   "outputs": [],
   "source": [
    "# create preference matrix\n",
    "preferences = np.zeros(len(combinations)).reshape(len(routes),len(drivers))\n",
    "# iterate through every route\n",
    "for i in range(len(routes)):\n",
    "    for j in range(len(drivers)):\n",
    "        # if preference does not match route type\n",
    "        if route_type[i] != driver_preference[j]:\n",
    "            preferences[i,j] = 1\n",
    "        else:\n",
    "            # if preferences match\n",
    "            preferences[i,j] = 2\n"
   ]
  },
  {
   "cell_type": "code",
   "execution_count": null,
   "metadata": {},
   "outputs": [],
   "source": [
    "difference = np.zeros(len(combinations)).reshape(len(routes),len(drivers))\n",
    "# iterate through every route\n",
    "for i in range(len(routes)):\n",
    "    for j in range(len(drivers)):\n",
    "        # compute difference in start time\n",
    "        diff = abs(route_start_times[i] - driver_start_times[j])\n",
    "        # convert from date time to minutes\n",
    "        mins = diff.total_seconds()/60\n",
    "        \n",
    "        # give score between 0 and 1\n",
    "        if mins < 10:\n",
    "            difference[i,j] = 1\n",
    "        elif mins < 20:\n",
    "            difference[i,j] = 0.75\n",
    "        elif mins < 30:\n",
    "            difference[i,j] = 0.5\n",
    "        elif mins < 45:\n",
    "            difference[i,j] = 0.25\n",
    "        elif mins < 60:\n",
    "            difference[i,j] = 0.1\n",
    "        else:\n",
    "            difference[i,j] = -100\n",
    "        "
   ]
  },
  {
   "cell_type": "code",
   "execution_count": null,
   "metadata": {},
   "outputs": [],
   "source": [
    "def obj_func(comb):\n",
    "   # seperate route and driver\n",
    "    route, driver = comb\n",
    "    # get index of route\n",
    "    i = routes.index(route)\n",
    "    # get index of driver\n",
    "    j = drivers.index(driver)\n",
    "    \n",
    "    return difference[i,j] * preferences[i,j]\n",
    "\n",
    "\n",
    "# add objective function to model\n",
    "allocation_model += lpSum([obj_func(comb) * var[comb] for comb in combinations])\n"
   ]
  },
  {
   "cell_type": "code",
   "execution_count": null,
   "metadata": {},
   "outputs": [],
   "source": [
    "# constraint 1 - a route can only appear once in the final solution.\n",
    "for route in routes:\n",
    "    allocation_model += lpSum([var[comb] for comb in combinations if route in comb]) <= 1\n",
    "\n",
    "# constraint 2 - a driver can only appear once in the final solution.\n",
    "for driver in drivers:\n",
    "    allocation_model += lpSum([var[comb] for comb in combinations if driver in comb]) <= 1"
   ]
  },
  {
   "cell_type": "code",
   "execution_count": null,
   "metadata": {},
   "outputs": [],
   "source": [
    "allocation_model.solve()\n",
    "\n",
    "for comb in combinations:\n",
    "    if var[comb].varValue() == 1:\n",
    "        # get index of route\n",
    "        i = routes.index(route)\n",
    "        # get index of driver\n",
    "        j = drivers.index(driver)\n",
    "        # get information for route and driver\n",
    "        route = (comb[0],route_start_times[i].strftime('%H:%M'),route_type[i])\n",
    "        driver = (comb[1], driver_start_times[j].strftime('%H:%M'),driver_preference[j])\n",
    "        # print solution\n",
    "        print(route,driver)\n",
    "        \n",
    "        "
   ]
  }
 ],
 "metadata": {
  "kernelspec": {
   "display_name": "Python 3",
   "language": "python",
   "name": "python3"
  },
  "language_info": {
   "codemirror_mode": {
    "name": "ipython",
    "version": 3
   },
   "file_extension": ".py",
   "mimetype": "text/x-python",
   "name": "python",
   "nbconvert_exporter": "python",
   "pygments_lexer": "ipython3",
   "version": "3.8.5"
  }
 },
 "nbformat": 4,
 "nbformat_minor": 4
}
